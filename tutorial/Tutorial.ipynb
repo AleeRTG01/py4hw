{
 "cells": [
  {
   "cell_type": "markdown",
   "metadata": {},
   "source": [
    "# py4hw Tutorial\n",
    "\n",
    "A crash course on creating hardware using python with py4hw.\n",
    "\n",
    "For a more structured description of the framework read the [py4hw User Guide](UserGuide.ipynb) "
   ]
  },
  {
   "cell_type": "markdown",
   "metadata": {},
   "source": [
    "[Lesson 1 - A simple structural circuit. Full Adder 1 bit](t01/full_adder.ipynb)\n",
    "\n",
    "[Lesson 2 - A simple behavioral circuit. Behavioural Full Adder](t02/full_adder.ipynb)\n",
    "\n",
    "[Lesson 3 - A simple generator circuit. Full Adder n bits](t03/full_adder_n.ipynb)\n",
    "\n",
    "[Lesson 4 - Improving visual feedback in simulations, a 7 segment display](t04/seven_segment.ipynb)\n",
    "\n",
    "[Lesson 5 - BCD Decoder](t05/BCD.ipynb)\n",
    "\n",
    "Lesson 6 - Sequence Integrator\n",
    "\n",
    "Lesson 7 - Select Max\n",
    "\n",
    "Lesson 8 - Modulo Counter\n",
    "\n",
    "[Lesson 9 - VGA Generator](t09/vga_generator.ipynb)\n",
    "\n",
    "Lesson 10 - FSM.\n",
    "\n",
    "Lesson 11 - Verification of FSMs. State visualization and coverage (how many states were visited? how many transitions were covered).\n",
    "\n",
    "Lesson 11 - Custom Stimuli. yield.\n",
    "\n",
    "Lesson 12 - Assertions.\n",
    "\n",
    "Lesson 12 - Random testbenches."
   ]
  },
  {
   "cell_type": "code",
   "execution_count": null,
   "metadata": {},
   "outputs": [],
   "source": []
  }
 ],
 "metadata": {
  "kernelspec": {
   "display_name": "Python 3 (ipykernel)",
   "language": "python",
   "name": "python3"
  },
  "language_info": {
   "codemirror_mode": {
    "name": "ipython",
    "version": 3
   },
   "file_extension": ".py",
   "mimetype": "text/x-python",
   "name": "python",
   "nbconvert_exporter": "python",
   "pygments_lexer": "ipython3",
   "version": "3.7.6"
  }
 },
 "nbformat": 4,
 "nbformat_minor": 4
}
