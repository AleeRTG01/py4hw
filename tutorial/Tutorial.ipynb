{
 "cells": [
  {
   "cell_type": "markdown",
   "metadata": {},
   "source": [
    "# Py4Hw Tutorial \n",
    "\n",
    "[![Binder](https://mybinder.org/badge_logo.svg)](https://mybinder.org/v2/gh/davidcastells/py4hw/HEAD?filepath=tutorial%2FTutorial.ipynb)\n",
    "\n",
    "Py4Hw is a Python library that allows to describe and simulate digital circuits without the need of any other HDL tool.\n",
    "\n",
    "In this notebook we will learn how to use it. Launch it in Binder by clicking the icon above (or any other Jupyter Notebook server) for a best experience.\n",
    "\n",
    "\n",
    "Follow it step by step or browse the following table of contents.\n",
    "\n",
    "## 0. Setting Up (Not necessary if running from Binder)\n",
    "### 0.1 [Installing the library](s00/installing.ipynb)\n",
    "### 0.2 [Cloning the development repository](s00/cloning.ipynb)"
   ]
  },
  {
   "cell_type": "code",
   "execution_count": null,
   "metadata": {},
   "outputs": [],
   "source": []
  }
 ],
 "metadata": {
  "kernelspec": {
   "display_name": "Python 3",
   "language": "python",
   "name": "python3"
  },
  "language_info": {
   "codemirror_mode": {
    "name": "ipython",
    "version": 3
   },
   "file_extension": ".py",
   "mimetype": "text/x-python",
   "name": "python",
   "nbconvert_exporter": "python",
   "pygments_lexer": "ipython3",
   "version": "3.7.6"
  }
 },
 "nbformat": 4,
 "nbformat_minor": 4
}
