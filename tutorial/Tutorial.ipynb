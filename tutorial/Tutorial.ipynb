{
 "cells": [
  {
   "cell_type": "markdown",
   "metadata": {},
   "source": [
    "# py4hw Tutorial\n",
    "\n",
    "A crash course on creating hardware using python with py4hw.\n",
    "\n",
    "For a more structured description of the framework read the [py4hw User Guide](UserGuide.ipynb) "
   ]
  },
  {
   "cell_type": "markdown",
   "metadata": {},
   "source": [
    "[Lesson 1 - Full Adder 1 bit](t01/full_adder.ipynb)\n",
    "\n",
    "Lesson 2 - Behavioural Full Adder \n",
    "\n",
    "Lesson 3 - Full Adder n bits\n",
    "\n",
    "Lesson 4 - BCD Decoder\n",
    "\n",
    "Lesson 5 - Counter\n",
    "\n",
    "Lesson 6 - Sequence Integrator\n",
    "\n",
    "Lesson 7 - Select Max\n",
    "\n",
    "Lesson 8 - Modulo Counter\n",
    "\n",
    "Lesson 9 - VGA Generator"
   ]
  },
  {
   "cell_type": "code",
   "execution_count": null,
   "metadata": {},
   "outputs": [],
   "source": []
  }
 ],
 "metadata": {
  "kernelspec": {
   "display_name": "Python 3",
   "language": "python",
   "name": "python3"
  },
  "language_info": {
   "codemirror_mode": {
    "name": "ipython",
    "version": 3
   },
   "file_extension": ".py",
   "mimetype": "text/x-python",
   "name": "python",
   "nbconvert_exporter": "python",
   "pygments_lexer": "ipython3",
   "version": "3.7.6"
  }
 },
 "nbformat": 4,
 "nbformat_minor": 4
}
