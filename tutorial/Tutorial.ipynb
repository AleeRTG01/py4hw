{
 "cells": [
  {
   "cell_type": "markdown",
   "metadata": {},
   "source": [
    "# Py4Hw Tutorial \n",
    "\n",
    "Py4Hw is a Python library that allows to describe and simulate digital circuits without the need of any other HDL tool.\n",
    "\n",
    "In this notebook we will learn how to use it. Launch it in Binder by clicking the icon above (or any other Jupyter Notebook server) for a best experience.\n",
    "\n",
    "\n",
    "Follow it step by step for an incremental view of the library or browse the following table of contents.\n",
    "\n",
    "\n",
    "## 0. Setting Up (Not necessary if running from Binder)\n",
    "### 0.1 [Installing the library](s00/installing.ipynb)\n",
    "### 0.2 [Cloning the development repository](s00/cloning.ipynb)\n",
    "\n",
    "## 1. Basics\n",
    "### 1.1 [Hardware Design Style](s01/DesignStyle.ipynb)\n",
    "### 1.2 Object Oriented Approach\n",
    "### 1.3 HWSystem\n",
    "### 1.4 Logic\n",
    "### 1.5 Ports\n",
    "### 1.6 [Wires](s01/wires.ipynb)\n",
    "### 1.7 Interfaces (Future)\n",
    "\n",
    "## 2. Combinational Primitive Blocs\n",
    "### 2.1 [Bitwise Logic Operations](s02/logic.ipynb) \n",
    "### 2.2 Logical and Relational Operations\n",
    "### 2.3 Bit manipulation\n",
    "\n",
    "## 3. Sequential Primitive Blocks\n",
    "### 3.1 Registers\n",
    "### 3.2 Memories\n",
    "\n",
    "## 4. Simulation\n",
    "### 4.1 The simulator\n",
    "### 4.2 Scopes\n",
    "### 4.3 Waveforms\n",
    "\n",
    "## 5. Visualization\n",
    "### 5.1 Schematic Viewer\n",
    "### 5.2 Interactive workbench\n",
    "\n",
    "## 6. IP library\n",
    "### 6.1 Current blocks\n",
    "### 6.2 Future goals\n",
    "\n",
    "## 7. Internals\n",
    "#### 7.1 Behavioural Modeling\n",
    "#### 7.2 Cycle Based Simulation\n",
    "#### 7.3 Schematic Visualization\n",
    "\n"
   ]
  },
  {
   "cell_type": "code",
   "execution_count": null,
   "metadata": {},
   "outputs": [],
   "source": []
  }
 ],
 "metadata": {
  "kernelspec": {
   "display_name": "Python 3",
   "language": "python",
   "name": "python3"
  },
  "language_info": {
   "codemirror_mode": {
    "name": "ipython",
    "version": 3
   },
   "file_extension": ".py",
   "mimetype": "text/x-python",
   "name": "python",
   "nbconvert_exporter": "python",
   "pygments_lexer": "ipython3",
   "version": "3.7.6"
  }
 },
 "nbformat": 4,
 "nbformat_minor": 4
}
