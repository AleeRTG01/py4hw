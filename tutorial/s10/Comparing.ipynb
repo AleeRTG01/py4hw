{
 "cells": [
  {
   "cell_type": "markdown",
   "id": "15e5d2f3",
   "metadata": {},
   "source": [
    "# [Py4Hw User Guide](../UserGuide.ipynb)> 10.4 Comparing with other Python based HDLs"
   ]
  },
  {
   "cell_type": "markdown",
   "id": "06d1374a",
   "metadata": {},
   "source": [
    "There are many similar initiatives\n",
    "\n",
    "\n",
    "| Framework | Launched | Scientify Publication | Last PyPi Release | Github Repository | Forks/Stars* |\n",
    "| :-- | :-- | :-- | :-- | :-- | --: |\n",
    "| MyHDL | 2003 | J. Decaluwe, \"Myhdl: a python-based hardware description language.\" Linux journal, no. 127, pp. 84–87, 2004 | [6/2019](https://pypi.org/project/myhdl/#history) | [myhdl/myhdl](https://github.com/myhdl/myhdl) | 236 / 945 |\n",
    "| PyRTL | 2015 | D. Mirza, D. Dangwal, and T. Sherwood, “Pyrtl in early undergraduateresearch,” in Proceedings of the Workshop on Computer ArchitectureEducation, 2019, pp. 1–8. | [1/2023](https://pypi.org/project/pyrtl/#history) | [UCSBarchlab/PyRTL](https://github.com/UCSBarchlab/PyRTL) | 75 / 207 |\n",
    "| HWT | 2016 | | [7/2021](https://pypi.org/project/hwt/#history)| [nic30/hwt](https://github.com/nic30/hwt) | 25 / 186 |\n",
    "| Migen | 2019 | | [11/2019](https://pypi.org/project/migen/#history) | [m-labs/migen](https://github.com/m-labs/migen) | 201 / 1096 |\n",
    "| PyMTL3 | 2020 | S. Jiang, P. Pan, Y. Ou, and C. Batten, “Pymtl3: a python frameworkfor open-source hardware modeling, generation, simulation, and verifi-cation,” IEEE Micro, vol. 40, no. 4, pp. 58–66, 2020 | [3/2023](https://pypi.org/project/pymtl3/#history) | [pymtl/pymtl3](https://github.com/pymtl/pymtl3) | 42 / 308 |\n",
    "| PyLog | 2021 | S. Huang, K. Wu, H. Jeong, C. Wang, D. Chen, and W.-M. Hwu, “Pylog:An algorithm-centric python-based fpga programming and synthesisflow,” IEEE T COMPUT, vol. 70, no. 12, pp. 2015–2028, 2021 | | [hst10/pylog](https://github.com/hst10/pylog) | 7 / 50 |\n",
    "| Amaranth | 2021 | | | [amaranth-lang/amaranth](https://github.com/amaranth-lang/amaranth) | 154 / 1246 |\n",
    "\n",
    "\\* Last checked 29th September 2023"
   ]
  },
  {
   "cell_type": "code",
   "execution_count": null,
   "id": "2f2da02d",
   "metadata": {},
   "outputs": [],
   "source": []
  }
 ],
 "metadata": {
  "kernelspec": {
   "display_name": "Python 3 (ipykernel)",
   "language": "python",
   "name": "python3"
  },
  "language_info": {
   "codemirror_mode": {
    "name": "ipython",
    "version": 3
   },
   "file_extension": ".py",
   "mimetype": "text/x-python",
   "name": "python",
   "nbconvert_exporter": "python",
   "pygments_lexer": "ipython3",
   "version": "3.11.5"
  }
 },
 "nbformat": 4,
 "nbformat_minor": 5
}
