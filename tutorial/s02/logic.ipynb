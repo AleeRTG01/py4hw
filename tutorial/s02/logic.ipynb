{
 "cells": [
  {
   "cell_type": "markdown",
   "metadata": {},
   "source": [
    "#   [Py4Hw User Guide](../UserGuide.ipynb)> 2.1 Bitwise Logic Operations"
   ]
  },
  {
   "cell_type": "markdown",
   "metadata": {},
   "source": [
    "**py4hw** supports the classic bitwise logic operations that you would expect to have in any programming language: and, or, not, xor. "
   ]
  },
  {
   "cell_type": "code",
   "execution_count": 11,
   "metadata": {},
   "outputs": [],
   "source": [
    "import py4hw\n",
    "import matplotlib.pyplot as plt"
   ]
  },
  {
   "cell_type": "code",
   "execution_count": 12,
   "metadata": {},
   "outputs": [
    {
     "name": "stdout",
     "output_type": "stream",
     "text": [
      "WARNING /HWSystem[HWSystem]/Not[not] h with no sinks\n",
      "WARNING /HWSystem[HWSystem]/Scope[h] h with no sinks\n"
     ]
    }
   ],
   "source": [
    "sys = py4hw.HWSystem()\n",
    "a = py4hw.Wire(sys, 'a', 8)\n",
    "b = py4hw.Wire(sys, 'b', 8)\n",
    "c = py4hw.Wire(sys, 'c', 8)\n",
    "d = py4hw.Wire(sys, 'd', 8)\n",
    "e = py4hw.Wire(sys, 'e', 8)\n",
    "f = py4hw.Wire(sys, 'f', 8)\n",
    "g = py4hw.Wire(sys, 'g', 8)\n",
    "h = py4hw.Wire(sys, 'h', 8)\n",
    "\n",
    "py4hw.Constant(sys, 'a', 13, a)\n",
    "py4hw.Constant(sys, 'b', 25, b)\n",
    "py4hw.Constant(sys, 'd', 67, d)\n",
    "py4hw.Constant(sys, 'f', 32, f)\n",
    "\n",
    "#py4hw.Sequence(sys, '')\n",
    "py4hw.And(sys, 'and', a, b, c)\n",
    "py4hw.Or(sys, 'or', c, d, e)\n",
    "py4hw.Xor(sys, 'xor', e, f, g)\n",
    "py4hw.Not(sys, 'not', g, h)\n",
    "\n",
    "py4hw.Scope(sys, 'h', h)\n",
    "\n",
    "py4hw.debug.checkIntegrity(sys)"
   ]
  },
  {
   "cell_type": "code",
   "execution_count": 16,
   "metadata": {
    "scrolled": false
   },
   "outputs": [
    {
     "name": "stdout",
     "output_type": "stream",
     "text": [
      "placeInstances <py4hw.base.HWSystem object at 0x000001C44033C488>\n",
      "child <py4hw.logic.Constant object at 0x000001C4402739C8>\n",
      "getSymbol -> none for object <class 'py4hw.logic.Constant'>\n",
      "adding outport  <py4hw.logic.Constant object at 0x000001C4402739C8> r\n",
      "child <py4hw.logic.Constant object at 0x000001C44033A488>\n",
      "getSymbol -> none for object <class 'py4hw.logic.Constant'>\n",
      "adding outport  <py4hw.logic.Constant object at 0x000001C44033A488> r\n",
      "child <py4hw.logic.Constant object at 0x000001C44033ACC8>\n",
      "getSymbol -> none for object <class 'py4hw.logic.Constant'>\n",
      "adding outport  <py4hw.logic.Constant object at 0x000001C44033ACC8> r\n",
      "child <py4hw.logic.Constant object at 0x000001C4403329C8>\n",
      "getSymbol -> none for object <class 'py4hw.logic.Constant'>\n",
      "adding outport  <py4hw.logic.Constant object at 0x000001C4403329C8> r\n",
      "child <py4hw.logic.And object at 0x000001C4406FC688>\n",
      "getSymbol -> good <py4hw.logic.And object at 0x000001C4406FC688>\n",
      "adding inport  <py4hw.logic.And object at 0x000001C4406FC688> a\n",
      "adding inport  <py4hw.logic.And object at 0x000001C4406FC688> b\n",
      "adding outport  <py4hw.logic.And object at 0x000001C4406FC688> r\n",
      "child <py4hw.logic.Or object at 0x000001C4406FC848>\n",
      "getSymbol -> good <py4hw.logic.Or object at 0x000001C4406FC848>\n",
      "adding inport  <py4hw.logic.Or object at 0x000001C4406FC848> a\n",
      "adding inport  <py4hw.logic.Or object at 0x000001C4406FC848> b\n",
      "adding outport  <py4hw.logic.Or object at 0x000001C4406FC848> r\n",
      "child <py4hw.logic.Xor object at 0x000001C4406FCB08>\n",
      "getSymbol -> none for object <class 'py4hw.logic.Xor'>\n",
      "adding inport  <py4hw.logic.Xor object at 0x000001C4406FCB08> a\n",
      "adding inport  <py4hw.logic.Xor object at 0x000001C4406FCB08> b\n",
      "adding outport  <py4hw.logic.Xor object at 0x000001C4406FCB08> r\n",
      "child <py4hw.logic.Not object at 0x000001C4406FCD08>\n",
      "getSymbol -> good <py4hw.logic.Not object at 0x000001C4406FCD08>\n",
      "adding inport  <py4hw.logic.Not object at 0x000001C4406FCD08> a\n",
      "adding outport  <py4hw.logic.Not object at 0x000001C4406FCD08> r\n",
      "child <py4hw.logic.Scope object at 0x000001C440702CC8>\n",
      "getSymbol -> good <py4hw.logic.Scope object at 0x000001C440702CC8>\n",
      "adding inport  <py4hw.logic.Scope object at 0x000001C440702CC8> h\n",
      "iter 0 cost: 0 False\n",
      "Checking sources <py4hw.schematic_symbols.InstanceSymbol object at 0x000001C440705D48>\n",
      "Assigning  <py4hw.schematic_symbols.InstanceSymbol object at 0x000001C440705D48>  to column 0\n",
      "Checking sources <py4hw.schematic_symbols.InstanceSymbol object at 0x000001C440B5E108>\n",
      "Assigning  <py4hw.schematic_symbols.InstanceSymbol object at 0x000001C440B5E108>  to column 0\n",
      "Checking sources <py4hw.schematic_symbols.InstanceSymbol object at 0x000001C43CE53688>\n",
      "Assigning  <py4hw.schematic_symbols.InstanceSymbol object at 0x000001C43CE53688>  to column 0\n",
      "Checking sources <py4hw.schematic_symbols.InstanceSymbol object at 0x000001C4403514C8>\n",
      "Assigning  <py4hw.schematic_symbols.InstanceSymbol object at 0x000001C4403514C8>  to column 0\n",
      "Checking sources <py4hw.schematic_symbols.AndSymbol object at 0x000001C441168E48>\n",
      "Source <py4hw.schematic_symbols.InstanceSymbol object at 0x000001C440705D48>\n",
      "Source <py4hw.schematic_symbols.InstanceSymbol object at 0x000001C440B5E108>\n",
      "Assigning  <py4hw.schematic_symbols.AndSymbol object at 0x000001C441168E48>  to column 1\n",
      "Checking sources <py4hw.schematic_symbols.OrSymbol object at 0x000001C44033AF08>\n",
      "Source <py4hw.schematic_symbols.AndSymbol object at 0x000001C441168E48>\n",
      "Source <py4hw.schematic_symbols.InstanceSymbol object at 0x000001C43CE53688>\n",
      "Assigning  <py4hw.schematic_symbols.OrSymbol object at 0x000001C44033AF08>  to column 2\n",
      "Checking sources <py4hw.schematic_symbols.InstanceSymbol object at 0x000001C4404527C8>\n",
      "Source <py4hw.schematic_symbols.OrSymbol object at 0x000001C44033AF08>\n",
      "Source <py4hw.schematic_symbols.InstanceSymbol object at 0x000001C4403514C8>\n",
      "Assigning  <py4hw.schematic_symbols.InstanceSymbol object at 0x000001C4404527C8>  to column 3\n",
      "Checking sources <py4hw.schematic_symbols.NotSymbol object at 0x000001C4406F8548>\n",
      "Source <py4hw.schematic_symbols.InstanceSymbol object at 0x000001C4404527C8>\n",
      "Assigning  <py4hw.schematic_symbols.NotSymbol object at 0x000001C4406F8548>  to column 4\n",
      "Checking sources <py4hw.schematic_symbols.ScopeSymbol object at 0x000001C4406EDFC8>\n",
      "Source <py4hw.schematic_symbols.NotSymbol object at 0x000001C4406F8548>\n",
      "Assigning  <py4hw.schematic_symbols.ScopeSymbol object at 0x000001C4406EDFC8>  to column 5\n",
      "sw[0]=10\n",
      "sw[0]=10\n",
      "sw[1]=10\n",
      "sw[1]=-65\n",
      "sw[2]=10\n",
      "sw[2]=-65\n",
      "sw[3]=10\n",
      "sw[4]=10\n"
     ]
    },
    {
     "data": {
      "image/png": "[encoded data removed]",
      "text/plain": [
       "<Figure size 790x790 with 1 Axes>"
      ]
     },
     "metadata": {},
     "output_type": "display_data"
    }
   ],
   "source": [
    "sch = py4hw.Schematic(sys)\n",
    "plt.show()"
   ]
  },
  {
   "cell_type": "code",
   "execution_count": 19,
   "metadata": {},
   "outputs": [
    {
     "name": "stdout",
     "output_type": "stream",
     "text": [
      "Scope [h]:\n",
      "h=148\n",
      "----------\n",
      "Scope [h]:\n",
      "h=148\n",
      "----------\n",
      "Scope [h]:\n",
      "h=148\n",
      "----------\n",
      "Scope [h]:\n",
      "h=148\n",
      "----------\n",
      "Scope [h]:\n",
      "h=148\n",
      "----------\n"
     ]
    }
   ],
   "source": [
    "sim = sys.getSimulator()\n",
    "sim.clk(5)"
   ]
  },
  {
   "cell_type": "code",
   "execution_count": null,
   "metadata": {},
   "outputs": [],
   "source": []
  }
 ],
 "metadata": {
  "kernelspec": {
   "display_name": "Python 3",
   "language": "python",
   "name": "python3"
  },
  "language_info": {
   "codemirror_mode": {
    "name": "ipython",
    "version": 3
   },
   "file_extension": ".py",
   "mimetype": "text/x-python",
   "name": "python",
   "nbconvert_exporter": "python",
   "pygments_lexer": "ipython3",
   "version": "3.7.6"
  }
 },
 "nbformat": 4,
 "nbformat_minor": 4
}
