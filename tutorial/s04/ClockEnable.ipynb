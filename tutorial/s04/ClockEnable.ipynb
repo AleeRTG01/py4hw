{
 "cells": [
  {
   "cell_type": "markdown",
   "id": "e3ebe8dd",
   "metadata": {},
   "source": [
    "# [Py4Hw User Guide](../UserGuide.ipynb) > 4.3 Clock Enable"
   ]
  },
  {
   "cell_type": "markdown",
   "id": "0de5f126",
   "metadata": {},
   "source": [
    "Synchronous hardware design receives its name from the fact that typically there is a global clock that synchronizes all sequential elements of the circuit.\n",
    "\n",
    "Having a global synchronous clock is a very common circuit design technique that symplifies the work of timing analysis and reduces complex timing errors.\n",
    "\n",
    "However, modern circuits can have different parts with different clocking requirements, or, in many designs, it is very common that some part **stalls** (i.e. stops its activity) while waiting for an event.\n",
    "\n",
    "There are some options to stop the activity of a sequential circuit.\n",
    "One of the easiest is to stop its clock signal. This is called **clock gating**.\n",
    "\n",
    "However, clock gating increases the complexity of timing analysis and it is generally not recommended in synchronous design.\n",
    "\n",
    "An alternative is **clock enabling**.\n",
    "\n",
    "We basically need an **clk_enable** signal in sequential blocks."
   ]
  },
  {
   "cell_type": "markdown",
   "id": "59395347",
   "metadata": {},
   "source": [
    "## <span style=\"color:red\"> INFO </span>\n",
    "**py4hw** recommends you to use the port name **clk_enable** for clock enable ports in sequential circuits. This could be used by some future tools of the framework. "
   ]
  },
  {
   "cell_type": "code",
   "execution_count": null,
   "id": "73c9735b",
   "metadata": {},
   "outputs": [],
   "source": []
  }
 ],
 "metadata": {
  "kernelspec": {
   "display_name": "Python 3 (ipykernel)",
   "language": "python",
   "name": "python3"
  },
  "language_info": {
   "codemirror_mode": {
    "name": "ipython",
    "version": 3
   },
   "file_extension": ".py",
   "mimetype": "text/x-python",
   "name": "python",
   "nbconvert_exporter": "python",
   "pygments_lexer": "ipython3",
   "version": "3.7.6"
  }
 },
 "nbformat": 4,
 "nbformat_minor": 5
}
