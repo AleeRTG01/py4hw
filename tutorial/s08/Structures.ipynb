{
 "cells": [
  {
   "cell_type": "markdown",
   "metadata": {},
   "source": [
    "#   [Py4Hw User Guide](../UserGuide.ipynb)> 8.1 Dealing with unique instances, unique blocks and parametetric blocks\n"
   ]
  },
  {
   "cell_type": "markdown",
   "metadata": {},
   "source": [
    "In classic HDL languages you usually create an HDL design file that contains a module.\n",
    "Diferents levels of complexity can affect a HDL module. The following list describe the typical levels you can find, by order of complexity.\n",
    "\n",
    "- The module has a fixed interface, all input and output signals have a given width and no parameters exist\n",
    "- Parameters are used to define wire widths or simple things such as constant values.\n",
    "- Parameters are used in conjunction with generative clasules to create different hardware subcircuits depending on them\n",
    "\n",
    "On the other hand, in py4hw the designer never specifies the widths of the signals, they are inferred during runtime when instantiating the circuit. This does not mean that the designer cannot enforce certain widths on signals, but this must be done during runtime (usually by raising exceptions when invalid parameters are observed).\n",
    "\n",
    "Moreover, the interface of circuits is totally defined during runtime. This means that in some circumstances a circuit can create some few inputs and outputs and in other circumstances can create hundreds of them. This flexibility is not present in many HDL frameworks, with some exceptions. For instance, this is possible in Chisel.\n",
    "\n",
    "\n",
    "The challenge, then, is : how to procude RTL from those generic py4hw descriptions?\n",
    "\n",
    "The easy option _currently implemented_ is to generate a different RTL file for each logic instance of the circuit.\n",
    "\n",
    "This option has the negative effect of generating very large HDL descriptions with unnecessary simple circuit duplications. "
   ]
  },
  {
   "cell_type": "code",
   "execution_count": 4,
   "metadata": {},
   "outputs": [
    {
     "data": {
      "text/plain": [
       "<py4hw.schematic.MatplotlibRender at 0x253625ff670>"
      ]
     },
     "execution_count": 4,
     "metadata": {},
     "output_type": "execute_result"
    },
    {
     "data": {
      "image/png": "[encoded data removed]",
      "text/plain": [
       "<Figure size 368x210 with 1 Axes>"
      ]
     },
     "metadata": {},
     "output_type": "display_data"
    }
   ],
   "source": [
    "import py4hw\n",
    "\n",
    "class ExampleChild(py4hw.Logic):\n",
    "    def __init__(self, parent, name, a, b, r):\n",
    "        super().__init__(parent, name)\n",
    "        \n",
    "        self.addIn('a', a)\n",
    "        self.addIn('b', b)\n",
    "        self.addOut('r', r)\n",
    "        \n",
    "        py4hw.And2(self, 'r', a, b, r)\n",
    "\n",
    "\n",
    "class Example(py4hw.Logic):\n",
    "    def __init__(self, parent, name, a, b, c, r):\n",
    "        super().__init__(parent, name)\n",
    "        \n",
    "        self.addIn('a', a)\n",
    "        self.addIn('b', b)\n",
    "        self.addIn('C', c)\n",
    "        self.addOut('r', r)\n",
    "        \n",
    "        d = self.wire('d', r.getWidth())\n",
    "        \n",
    "        ExampleChild(self, 'e1', a, b, d)\n",
    "        ExampleChild(self, 'e2', d, c, r)\n",
    "\n",
    "sys = py4hw.HWSystem()\n",
    "\n",
    "a = sys.wire('a')\n",
    "b = sys.wire('b')\n",
    "c = sys.wire('c')\n",
    "r = sys.wire('r')\n",
    "\n",
    "dut = Example(sys, 'example', a, b, c,r)\n",
    "\n",
    "py4hw.Schematic(dut).drawAll()"
   ]
  },
  {
   "cell_type": "markdown",
   "metadata": {},
   "source": [
    "If we generate the Verilog for this circuit multiple modules will be generated for each instance of the child element.\n",
    "This happens because py4hw does not know is this child circuit is exactly the same. "
   ]
  },
  {
   "cell_type": "code",
   "execution_count": 5,
   "metadata": {},
   "outputs": [
    {
     "name": "stdout",
     "output_type": "stream",
     "text": [
      "// This file was automatically created by py4hw RTL generator\n",
      "module Example (\n",
      "\tinput  a,\n",
      "\tinput  b,\n",
      "\tinput  C,\n",
      "\toutput  r);\n",
      "wire w_d;\n",
      "\n",
      "ExampleChild_253625fdb40 i_e1(.a(a),.b(b),.r(w_d));\n",
      "ExampleChild_253625fdb10 i_e2(.a(w_d),.b(C),.r(r));\n",
      "endmodule\n",
      "\n",
      "// This file was automatically created by py4hw RTL generator\n",
      "module ExampleChild_253625fdb40 (\n",
      "\tinput  a,\n",
      "\tinput  b,\n",
      "\toutput  r);\n",
      "\n",
      "assign r = a & b;\n",
      "endmodule\n",
      "\n",
      "// This file was automatically created by py4hw RTL generator\n",
      "module ExampleChild_253625fdb10 (\n",
      "\tinput  a,\n",
      "\tinput  b,\n",
      "\toutput  r);\n",
      "\n",
      "assign r = a & b;\n",
      "endmodule\n",
      "\n"
     ]
    }
   ],
   "source": [
    "rtl = py4hw.VerilogGenerator(dut)\n",
    "print(rtl.getVerilogForHierarchy())"
   ]
  },
  {
   "cell_type": "markdown",
   "metadata": {},
   "source": [
    "### Structure Names ###\n",
    "\n",
    "A method to avoid this is that the designer provides a unique name (structure name) for every combination of parameters that should create a reusable module to avoid creating a module for every instance.\n",
    "In the former example we could do:"
   ]
  },
  {
   "cell_type": "code",
   "execution_count": 8,
   "metadata": {},
   "outputs": [
    {
     "name": "stdout",
     "output_type": "stream",
     "text": [
      "// This file was automatically created by py4hw RTL generator\n",
      "module Example (\n",
      "\tinput  a,\n",
      "\tinput  b,\n",
      "\tinput  C,\n",
      "\toutput  r);\n",
      "wire w_d;\n",
      "\n",
      "Child1 i_e1(.a(a),.b(b),.r(w_d));\n",
      "Child1 i_e2(.a(w_d),.b(C),.r(r));\n",
      "endmodule\n",
      "\n",
      "// This file was automatically created by py4hw RTL generator\n",
      "module Child1 (\n",
      "\tinput  a,\n",
      "\tinput  b,\n",
      "\toutput  r);\n",
      "\n",
      "assign r = a & b;\n",
      "endmodule\n",
      "\n"
     ]
    },
    {
     "data": {
      "image/png": "[encoded data removed]",
      "text/plain": [
       "<Figure size 368x210 with 1 Axes>"
      ]
     },
     "metadata": {},
     "output_type": "display_data"
    }
   ],
   "source": [
    "class ExampleChild(py4hw.Logic):\n",
    "    def __init__(self, parent, name, a, b, r):\n",
    "        super().__init__(parent, name)\n",
    "        \n",
    "        self.addIn('a', a)\n",
    "        self.addIn('b', b)\n",
    "        self.r = self.addOut('r', r)\n",
    "        \n",
    "        py4hw.And2(self, 'r', a, b, r)\n",
    "        \n",
    "    def structureName(self):\n",
    "        return 'Child{}'.format(r.getWidth())\n",
    "\n",
    "\n",
    "class Example(py4hw.Logic):\n",
    "    def __init__(self, parent, name, a, b, c, r):\n",
    "        super().__init__(parent, name)\n",
    "        \n",
    "        self.addIn('a', a)\n",
    "        self.addIn('b', b)\n",
    "        self.addIn('C', c)\n",
    "        self.addOut('r', r)\n",
    "        \n",
    "        d = self.wire('d', r.getWidth())\n",
    "        \n",
    "        ExampleChild(self, 'e1', a, b, d)\n",
    "        ExampleChild(self, 'e2', d, c, r)\n",
    "\n",
    "sys = py4hw.HWSystem()\n",
    "\n",
    "a = sys.wire('a')\n",
    "b = sys.wire('b')\n",
    "c = sys.wire('c')\n",
    "r = sys.wire('r')\n",
    "\n",
    "dut = Example(sys, 'example', a, b, c,r)\n",
    "\n",
    "py4hw.Schematic(dut).drawAll()\n",
    "\n",
    "rtl = py4hw.VerilogGenerator(dut)\n",
    "print(rtl.getVerilogForHierarchy())"
   ]
  },
  {
   "cell_type": "code",
   "execution_count": null,
   "metadata": {},
   "outputs": [],
   "source": []
  }
 ],
 "metadata": {
  "kernelspec": {
   "display_name": "Python 3 (ipykernel)",
   "language": "python",
   "name": "python3"
  },
  "language_info": {
   "codemirror_mode": {
    "name": "ipython",
    "version": 3
   },
   "file_extension": ".py",
   "mimetype": "text/x-python",
   "name": "python",
   "nbconvert_exporter": "python",
   "pygments_lexer": "ipython3",
   "version": "3.10.13"
  }
 },
 "nbformat": 4,
 "nbformat_minor": 4
}
