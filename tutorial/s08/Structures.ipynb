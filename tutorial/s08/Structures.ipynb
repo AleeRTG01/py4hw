{
 "cells": [
  {
   "cell_type": "markdown",
   "metadata": {},
   "source": [
    "#   [Py4Hw User Guide](../UserGuide.ipynb)> 8.1 Dealing with unique instances, unique blocks and parametetric blocks\n"
   ]
  },
  {
   "cell_type": "markdown",
   "metadata": {},
   "source": [
    "In classic HDL languages you usually create an HDL design file that contains a module.\n",
    "Diferents levels of complexity can affect a HDL module. The following list describe the typical levels you can find, by order of complexity.\n",
    "\n",
    "- The module has a fixed interface, all input and output signals have a given width and no parameters exist\n",
    "- Parameters are used to define wire widths or simple things such as constant values.\n",
    "- Parameters are used in conjunction with generative clasules to create different hardware subcircuits depending on them\n",
    "\n",
    "On the other hand, in py4hw the designer never specifies the widths of the signals, they are inferred during runtime when instantiating the circuit. This does not mean that the designer cannot enforce certain widths on signals, but this must be done during runtime (usually by raising exceptions when invalid parameters are observed).\n",
    "\n",
    "Moreover, the interface of circuits is totally defined during runtime. This means that in some circumstances a circuit can create some few inputs and outputs and in other circumstances can create hundreds of them. This flexibility is not present in many HDL frameworks, with some exceptions. For instance, this is possible in Chisel.\n",
    "\n",
    "\n",
    "The challenge, then, is : how to procude RTL from those generic py4hw descriptions?\n",
    "\n",
    "The easy option _currently implemented_ is to generate a different RTL file for each logic instance of the circuit.\n",
    "\n",
    "This option has the negative effect of generating very large HDL descriptions with unnecessary simple circuit duplications. We are working on methods to minimize this undesired effect."
   ]
  },
  {
   "cell_type": "code",
   "execution_count": null,
   "metadata": {},
   "outputs": [],
   "source": []
  }
 ],
 "metadata": {
  "kernelspec": {
   "display_name": "Python 3 (ipykernel)",
   "language": "python",
   "name": "python3"
  },
  "language_info": {
   "codemirror_mode": {
    "name": "ipython",
    "version": 3
   },
   "file_extension": ".py",
   "mimetype": "text/x-python",
   "name": "python",
   "nbconvert_exporter": "python",
   "pygments_lexer": "ipython3",
   "version": "3.7.6"
  }
 },
 "nbformat": 4,
 "nbformat_minor": 4
}
