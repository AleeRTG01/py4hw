{
 "cells": [
  {
   "cell_type": "markdown",
   "metadata": {},
   "source": [
    "#   [Py4Hw User Guide](../UserGuide.ipynb)> 4.1 RTL Generation"
   ]
  },
  {
   "cell_type": "markdown",
   "metadata": {},
   "source": [
    "py4hw generates Verilog RTL Code.\n",
    "\n",
    "As many high level language RTL generation tool, it creates HDL code which is ugly in the eyes of a typical Hardware designer.\n",
    "\n",
    "The reason for this is explained in [section 7.1](../s07/Structures.ipynb).\n",
    "\n",
    "\n"
   ]
  },
  {
   "cell_type": "code",
   "execution_count": null,
   "metadata": {},
   "outputs": [],
   "source": [
    "import py4hw\n",
    "\n",
    "class Circuit(py4hw.Logic):\n",
    "    def __init__(parent, name, a, b, r, c):\n",
    "        super().__init__(parent, name)\n",
    "        \n",
    "        a = self.addIn('a', a)\n",
    "        b = self.addIn('b', b)\n",
    "        r = self.addOut('r', r)\n",
    "        c = self.addOut('c', c)\n",
    "\n",
    "        py4hw.Or2(self, 'or', a,b,r)\n",
    "        py4hw.Xor2(self, 'or', a,b,c)\n",
    "        \n",
    "        \n",
    "sys = py4hw.HWSystem()\n",
    "a = sys.wire('a', 3)\n",
    "b = sys.wire('b', 3)\n",
    "s = sys.wire('s', 3)\n",
    "r = sys.wire('r', 3)\n",
    "\n",
    "ha = Circuit(sys, 'half_adder', a, b, r, c)\n",
    "\n",
    "rtlgen = py4hw.VerilogGenerator(ha)\n",
    "\n",
    "print(rtlgen.getVerilog())"
   ]
  }
 ],
 "metadata": {
  "kernelspec": {
   "display_name": "Python 3",
   "language": "python",
   "name": "python3"
  },
  "language_info": {
   "codemirror_mode": {
    "name": "ipython",
    "version": 3
   },
   "file_extension": ".py",
   "mimetype": "text/x-python",
   "name": "python",
   "nbconvert_exporter": "python",
   "pygments_lexer": "ipython3",
   "version": "3.7.6"
  }
 },
 "nbformat": 4,
 "nbformat_minor": 4
}
