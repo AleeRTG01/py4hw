{
 "cells": [
  {
   "cell_type": "markdown",
   "metadata": {},
   "source": [
    "#   [Py4Hw User Guide](../UserGuide.ipynb)> 1.6 Wires"
   ]
  },
  {
   "cell_type": "markdown",
   "metadata": {},
   "source": [
    "Wires are required to interconnect the logic blocks instantiated in circuits.\n",
    "In py4hw wires are created by instantiating objects of the **Wire** class.\n",
    "\n",
    "Wire require the following parameters in their constructor\n",
    "\n",
    "1. The parent logic circuit. Every wire is assigned to a logic circuit.\n",
    "\n",
    "2. A name. All objects in py4hw have a name.\n",
    "\n",
    "3. A bit width. Wires can have a single bit, or an arbitrary number of bits. There is no limit to the number of bits.\n",
    "\n"
   ]
  },
  {
   "cell_type": "code",
   "execution_count": 10,
   "metadata": {},
   "outputs": [],
   "source": [
    "import py4hw"
   ]
  },
  {
   "cell_type": "code",
   "execution_count": 11,
   "metadata": {},
   "outputs": [],
   "source": [
    "sys = py4hw.HWSystem()"
   ]
  },
  {
   "cell_type": "code",
   "execution_count": 12,
   "metadata": {},
   "outputs": [],
   "source": [
    "a = py4hw.Wire(sys, 'a', 2)\n",
    "b = py4hw.Wire(sys, 'b', 2)"
   ]
  },
  {
   "cell_type": "code",
   "execution_count": null,
   "metadata": {},
   "outputs": [],
   "source": []
  }
 ],
 "metadata": {
  "kernelspec": {
   "display_name": "Python 3",
   "language": "python",
   "name": "python3"
  },
  "language_info": {
   "codemirror_mode": {
    "name": "ipython",
    "version": 3
   },
   "file_extension": ".py",
   "mimetype": "text/x-python",
   "name": "python",
   "nbconvert_exporter": "python",
   "pygments_lexer": "ipython3",
   "version": "3.7.6"
  }
 },
 "nbformat": 4,
 "nbformat_minor": 4
}
