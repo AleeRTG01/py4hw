{
 "cells": [
  {
   "cell_type": "markdown",
   "id": "93548b64",
   "metadata": {},
   "source": [
    "# [Py4Hw User Guide](../UserGuide.ipynb)> 1.4 Logic\n",
    "###  [Next: 1.5 Ports](Ports.ipynb)"
   ]
  },
  {
   "cell_type": "markdown",
   "id": "f0ac5cbe",
   "metadata": {},
   "source": [
    "All Logic blocks inherit from the class Logic.\n",
    "When you create a Hardware block you must create a class inheriting from Logic.\n",
    "Each object must have a parent and a name. This is implemented in the base class, so the constructor of your block must call the base class's constructor with parent and name.\n",
    "\n",
    "<pre>\n",
    "    super().__init__(parent, name)\n",
    "</pre>"
   ]
  },
  {
   "cell_type": "markdown",
   "id": "67e16456",
   "metadata": {},
   "source": [
    "Logic class has the following member variables (AKA fields)\n",
    " \n",
    "|Field |Description |\n",
    "| :-- | :-- |\n",
    "| parent | The parent circuit of this circuit. It must be also an object derived from the Logic class, except fot the HWSystem object, which parent is None |\n",
    "| name | An string with the name of the object. This name must be unique among the parent's children |\n",
    "| inPorts | A list with the input ports of the circuit |\n",
    "| outPorts | A list with the output ports of the circuit |\n",
    "| sources | A list with the interface sources of the circuit |\n",
    "| sinks | A list with the interface sinks of the circuit |\n",
    "| children | A dictionary (indexed by name) of the child instances of the circuit |\n",
    "| clockDriver | The clock driver of the circuit. By default is None, meaning that the ClockDriver is inherited from the parent |\n",
    "| _wires | A dictionary (indexed by name) of the internal wires of the circuit |\n",
    "\n",
    "\n",
    "And it has the following member functions (methods).\n",
    "\n",
    "|Method |Description |\n",
    "| :-- | :-- |\n",
    "| __init__ | Constructor of the class |\n",
    "| addIn | Adds an input port |\n",
    "| addOut | Adds an output port |\n",
    "| getInPortByName | Retrieves an input port by its name. This is needed because ports are stored in a list |\n",
    "| getOutPortByName | Retrieves an output port by its name. This is needed because ports are stored in a list |\n",
    "| reconnectIn | Connects an input port with a wire |\n",
    "| addInterfaceSource | Adds the  ports of the source interface to the circuit |\n",
    "| addInterfaceSink | Adds the  ports of the sink interface to the circuit |\n",
    "| appendWire | add wire to internal wires |\n",
    "| wire | create a wire |\n",
    "| wires | create multiple wires |\n",
    "| allLeaves | Obtains all leaf descendants of this circuit |\n",
    "| isPropagatable | Indicates if the circuit implements the propagate function |\n",
    "| isClockable | Indicates if the circuit implements the clock function |\n",
    "| isPrimitive | Indicates if it is either clockable or propagatable |\n",
    "| isStructural | Indicates if it has descendants |\n",
    "| getFullPath | Gets the full of a hierarchy element |\n",
    "| getFromFullPath | Gets a Logic from the full path |\n"
   ]
  },
  {
   "cell_type": "code",
   "execution_count": null,
   "id": "1d827965",
   "metadata": {},
   "outputs": [],
   "source": []
  }
 ],
 "metadata": {
  "kernelspec": {
   "display_name": "Python 3 (ipykernel)",
   "language": "python",
   "name": "python3"
  },
  "language_info": {
   "codemirror_mode": {
    "name": "ipython",
    "version": 3
   },
   "file_extension": ".py",
   "mimetype": "text/x-python",
   "name": "python",
   "nbconvert_exporter": "python",
   "pygments_lexer": "ipython3",
   "version": "3.10.13"
  }
 },
 "nbformat": 4,
 "nbformat_minor": 5
}
