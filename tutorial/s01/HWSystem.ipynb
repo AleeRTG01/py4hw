{
 "cells": [
  {
   "cell_type": "markdown",
   "id": "9c3ae715",
   "metadata": {},
   "source": [
    "# [Py4Hw User Guide](../UserGuide.ipynb)> 1.3 HWSystem"
   ]
  },
  {
   "cell_type": "markdown",
   "id": "61c75aba",
   "metadata": {},
   "source": [
    "In py4hw the top element of a circuit hierearchy is always the object HWSystem"
   ]
  },
  {
   "cell_type": "code",
   "execution_count": null,
   "id": "27f050ab",
   "metadata": {},
   "outputs": [],
   "source": []
  }
 ],
 "metadata": {
  "kernelspec": {
   "display_name": "Python 3 (ipykernel)",
   "language": "python",
   "name": "python3"
  },
  "language_info": {
   "codemirror_mode": {
    "name": "ipython",
    "version": 3
   },
   "file_extension": ".py",
   "mimetype": "text/x-python",
   "name": "python",
   "nbconvert_exporter": "python",
   "pygments_lexer": "ipython3",
   "version": "3.7.6"
  }
 },
 "nbformat": 4,
 "nbformat_minor": 5
}
