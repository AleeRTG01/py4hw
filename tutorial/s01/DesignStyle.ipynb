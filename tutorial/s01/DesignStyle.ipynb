{
 "cells": [
  {
   "cell_type": "markdown",
   "metadata": {},
   "source": [
    "#   [Py4Hw User Guide](../UserGuide.ipynb)> 1.1 Design Style\n",
    "###  [Next: 1.2 Object Oriented Approach](OO.ipynb)"
   ]
  },
  {
   "cell_type": "markdown",
   "metadata": {},
   "source": [
    "Hardware design tools typically combine different design styles. \n",
    "\n",
    "1. Graphical\n",
    "    1. Structural\n",
    "2. Textual (HDL)\n",
    "    1. Structural\n",
    "    2. Register Transfer Level\n",
    "    3. Behavioural"
   ]
  },
  {
   "cell_type": "markdown",
   "metadata": {},
   "source": [
    "Textual description of Hardware is done by Hardware description languages (HDL). Most popular ones are Verilog, SystemVerilog, VHDL, and MyHDL (also based on Python). "
   ]
  },
  {
   "cell_type": "markdown",
   "metadata": {},
   "source": [
    "In **py4hw** we promote the use of structural design style, by reusing as much as possible already designed and proven modules."
   ]
  },
  {
   "cell_type": "markdown",
   "metadata": {},
   "source": [
    "In structural design styles a hardware module is build by instantiating other hardware modules and connecting them with wires.\n",
    "\n",
    "Thus, to create a circuit, the hardware designer has to reuse existing available blocks and create new ones when needed.\n",
    "\n",
    "By doing that, the design ends up being a set of blocks with a hierarchycal dependence. For instance, let A,B,C,D,E,F be preexisting logic blocks, and A being composed by B and C, and E being composed by A and F. If a hardware designer builds a circuit g reusing A and using a newly created block h using D and E. The hierarchical description of the circuit g would be the following. \n",
    "\n",
    "<pre>\n",
    "g \n",
    "+- A\n",
    "|  +- B\n",
    "|  +- C\n",
    "+--h\n",
    "   +- D\n",
    "   +- E\n",
    "      +- A\n",
    "      |  +- B\n",
    "      |  +- C\n",
    "      +- F\n",
    "</pre>\n",
    "  \n",
    "In this case we would say that g is the **top level entity** of the hierarchy"
   ]
  },
  {
   "cell_type": "code",
   "execution_count": 1,
   "metadata": {},
   "outputs": [
    {
     "name": "stdout",
     "output_type": "stream",
     "text": [
      "Dev machine\n"
     ]
    }
   ],
   "source": [
    "import sys\n",
    "import platform\n",
    "if (platform.uname().node == 'TPY14'):\n",
    "    print('Dev machine')\n",
    "    sys.path.append('..\\\\..\\\\..\\\\py4hw')"
   ]
  },
  {
   "cell_type": "code",
   "execution_count": 2,
   "metadata": {},
   "outputs": [],
   "source": [
    "import py4hw"
   ]
  },
  {
   "cell_type": "code",
   "execution_count": 3,
   "metadata": {},
   "outputs": [
    {
     "name": "stdout",
     "output_type": "stream",
     "text": [
      "circuit created\n"
     ]
    }
   ],
   "source": [
    "# Imagine the following example\n",
    "sys = py4hw.HWSystem()\n",
    "\n",
    "inc = py4hw.Wire(sys, 'inc', 1)\n",
    "count = py4hw.Wire(sys, 'count', 8)\n",
    "q = py4hw.Wire(sys, 'q', 8)\n",
    "\n",
    "py4hw.Constant(sys, 'inc', 1, inc)\n",
    "py4hw.Add(sys, 'counter', q, inc, count)\n",
    "py4hw.Reg(sys, 'reg', d=count, enable=inc, q=q)\n",
    "\n",
    "print('circuit created')"
   ]
  },
  {
   "cell_type": "markdown",
   "metadata": {},
   "source": [
    "The following code shows prints the hierarchy of the system "
   ]
  },
  {
   "cell_type": "code",
   "execution_count": 4,
   "metadata": {},
   "outputs": [
    {
     "name": "stdout",
     "output_type": "stream",
     "text": [
      "HWSystem\n",
      " Constant\n",
      " Add\n",
      " Reg\n"
     ]
    }
   ],
   "source": [
    "py4hw.debug.printHierarchy(sys)"
   ]
  },
  {
   "cell_type": "markdown",
   "metadata": {},
   "source": [
    "You can add the current state of the inputs and outputs of each circuit of the hierarchy by using printHierarchyWithValues as shown in the following example "
   ]
  },
  {
   "cell_type": "code",
   "execution_count": 5,
   "metadata": {},
   "outputs": [
    {
     "name": "stdout",
     "output_type": "stream",
     "text": [
      "HWSystem HWSystem () -> () \n",
      " Constant inc () -> (r=1) \n",
      " Add counter (a=1,b=1) -> (r=2) \n",
      " Reg reg (d=2,e=1) -> (q=1) \n",
      "HWSystem HWSystem () -> () \n",
      " Constant inc () -> (r=1) \n",
      " Add counter (a=2,b=1) -> (r=3) \n",
      " Reg reg (d=3,e=1) -> (q=2) \n",
      "HWSystem HWSystem () -> () \n",
      " Constant inc () -> (r=1) \n",
      " Add counter (a=3,b=1) -> (r=4) \n",
      " Reg reg (d=4,e=1) -> (q=3) \n"
     ]
    }
   ],
   "source": [
    "for i in range(3):\n",
    "    sys.getSimulator().clk(1)\n",
    "    py4hw.debug.printHierarchyWithValues(sys)"
   ]
  },
  {
   "cell_type": "markdown",
   "metadata": {},
   "source": [
    "## Structural Design\n",
    "Structural design consist on creating instances of other elements.\n",
    "In **py4hw** this is done in the constructor of the class that implements the circuit."
   ]
  },
  {
   "cell_type": "code",
   "execution_count": 7,
   "metadata": {},
   "outputs": [
    {
     "name": "stdout",
     "output_type": "stream",
     "text": [
      "circuit created\n"
     ]
    }
   ],
   "source": [
    "sys = py4hw.HWSystem()\n",
    "\n",
    "inc = py4hw.Wire(sys, 'inc', 1)\n",
    "q = py4hw.Wire(sys, 'q', 8)\n",
    "\n",
    "py4hw.Constant(sys, 'inc', 1, inc)\n",
    "\n",
    "class Counter(py4hw.Logic):\n",
    "    def __init__(self, parent, name, inc, q):\n",
    "        super().__init__(parent, name)\n",
    "    \n",
    "        self.addIn('inc', inc)\n",
    "        self.addOut('q', q)\n",
    "        \n",
    "        count = py4hw.Wire(sys, 'count', 8)\n",
    "\n",
    "        py4hw.Add(self, 'counter', q, inc, count)\n",
    "        py4hw.Reg(self, 'reg', d=count, enable=inc, q=q)\n",
    "\n",
    "Counter(sys, 'counter', inc, q)\n",
    "\n",
    "print('circuit created')"
   ]
  },
  {
   "cell_type": "code",
   "execution_count": 10,
   "metadata": {},
   "outputs": [
    {
     "data": {
      "image/png": "[encoded data removed]",
      "text/plain": [
       "<Figure size 425x425 with 1 Axes>"
      ]
     },
     "metadata": {
      "needs_background": "light"
     },
     "output_type": "display_data"
    }
   ],
   "source": [
    "sch = py4hw.Schematic(sys.children['counter'])\n",
    "sch.draw()"
   ]
  },
  {
   "cell_type": "markdown",
   "metadata": {},
   "source": [
    "## Behavioural Modeling\n",
    "Not all the circuits can be described structurally.\n",
    "\n",
    "Some circuit primitives (like and, and or gates and registers) are already described behaviourally in the py4hw library.\n",
    "\n",
    "There are two types of behavioural descriptions: combinational and sequential.\n",
    "\n",
    "Combinational circuits are modelled by implementing the **propagate** method.\n",
    "\n",
    "Sequential circuits are modelled by implementing the **clock** method.\n",
    "\n"
   ]
  },
  {
   "cell_type": "code",
   "execution_count": null,
   "metadata": {},
   "outputs": [],
   "source": []
  }
 ],
 "metadata": {
  "kernelspec": {
   "display_name": "Python 3 (ipykernel)",
   "language": "python",
   "name": "python3"
  },
  "language_info": {
   "codemirror_mode": {
    "name": "ipython",
    "version": 3
   },
   "file_extension": ".py",
   "mimetype": "text/x-python",
   "name": "python",
   "nbconvert_exporter": "python",
   "pygments_lexer": "ipython3",
   "version": "3.7.6"
  }
 },
 "nbformat": 4,
 "nbformat_minor": 4
}
