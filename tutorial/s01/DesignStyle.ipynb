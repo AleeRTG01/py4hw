{
 "cells": [
  {
   "cell_type": "markdown",
   "metadata": {},
   "source": [
    "#   [Py4Hw User Guide](../UserGuide.ipynb)> 1.1 Design Style\n",
    "###  [Next: 1.2 Object Oriented Approach](OO.ipynb)"
   ]
  },
  {
   "cell_type": "markdown",
   "metadata": {},
   "source": [
    "Hardware design tools typically combine different design styles. \n",
    "\n",
    "1. Graphical\n",
    "    1. Structural\n",
    "2. Textual (HDL)\n",
    "    1. Structural\n",
    "    2. Register Transfer Level\n",
    "    3. Behavioural"
   ]
  },
  {
   "cell_type": "markdown",
   "metadata": {},
   "source": [
    "Textual description of Hardware is done by Hardware description languages (HDL). Most popular ones are Verilog, SystemVerilog, VHDL, and MyHDL (also based on Python). "
   ]
  },
  {
   "cell_type": "markdown",
   "metadata": {},
   "source": [
    "In **py4hw** we promote the use of structural design style, by reusing as much as possible already designed and proven modules."
   ]
  },
  {
   "cell_type": "markdown",
   "metadata": {},
   "source": [
    "In structural design styles a hardware module is build by instantiating other hardware modules and connecting them with wires.\n",
    "\n",
    "Thus, to create a circuit, the hardware designer has to reuse existing available blocks and create new ones when needed.\n",
    "\n",
    "By doing that, the design ends up being a set of blocks with a hierarchycal dependence. For instance, let A,B,C,D,E,F be preexisting logic blocks, and A being composed by B and C, and E being composed by A and F. If a hardware designer builds a circuit g reusing A and using a newly created block h using D and E. The hierarchical description of the circuit g would be the following. \n",
    "\n",
    "<pre>\n",
    "g \n",
    "+- A\n",
    "|  +- B\n",
    "|  +- C\n",
    "+--h\n",
    "   +- D\n",
    "   +- E\n",
    "      +- A\n",
    "      |  +- B\n",
    "      |  +- C\n",
    "      +- F\n",
    "</pre>\n",
    "  \n",
    "In this case we would say that g is the **top level entity** of the hierarchy"
   ]
  },
  {
   "cell_type": "code",
   "execution_count": 14,
   "metadata": {},
   "outputs": [
    {
     "data": {
      "text/plain": [
       "<py4hw.storage.Reg at 0x1390d2fdec8>"
      ]
     },
     "execution_count": 14,
     "metadata": {},
     "output_type": "execute_result"
    }
   ],
   "source": [
    "# Imagine the following example\n",
    "import py4hw\n",
    "\n",
    "sys = py4hw.HWSystem()\n",
    "\n",
    "inc = py4hw.Wire(sys, 'inc', 1)\n",
    "count = py4hw.Wire(sys, 'count', 8)\n",
    "q = py4hw.Wire(sys, 'q', 8)\n",
    "\n",
    "py4hw.Constant(sys, 'inc', 1, inc)\n",
    "py4hw.Add(sys, 'counter', q, inc, count)\n",
    "py4hw.Reg(sys, 'reg', count, inc, q)\n"
   ]
  },
  {
   "cell_type": "markdown",
   "metadata": {},
   "source": [
    "The following code shows prints the hierarchy of the system "
   ]
  },
  {
   "cell_type": "code",
   "execution_count": 10,
   "metadata": {},
   "outputs": [
    {
     "name": "stdout",
     "output_type": "stream",
     "text": [
      "HWSystem\n",
      " Constant\n",
      " Add\n",
      " Reg\n"
     ]
    }
   ],
   "source": [
    "py4hw.debug.printHierarchy(sys)"
   ]
  },
  {
   "cell_type": "markdown",
   "metadata": {},
   "source": [
    "You can add the current state of the inputs and outputs of each circuit of the hierarchy by using printHierarchyWithValues as shown in the following example "
   ]
  },
  {
   "cell_type": "code",
   "execution_count": 11,
   "metadata": {},
   "outputs": [
    {
     "name": "stdout",
     "output_type": "stream",
     "text": [
      "HWSystem HWSystem () -> () \n",
      " Constant inc () -> (r=1) \n",
      " Add counter (a=2,b=1) -> (r=3) \n",
      " Reg reg (d=3,e=1) -> (q=2) \n"
     ]
    }
   ],
   "source": [
    "sys.getSimulator().clk(1)\n",
    "py4hw.debug.printHierarchyWithValues(sys)"
   ]
  },
  {
   "cell_type": "code",
   "execution_count": null,
   "metadata": {},
   "outputs": [],
   "source": []
  }
 ],
 "metadata": {
  "kernelspec": {
   "display_name": "Python 3",
   "language": "python",
   "name": "python3"
  },
  "language_info": {
   "codemirror_mode": {
    "name": "ipython",
    "version": 3
   },
   "file_extension": ".py",
   "mimetype": "text/x-python",
   "name": "python",
   "nbconvert_exporter": "python",
   "pygments_lexer": "ipython3",
   "version": "3.7.6"
  }
 },
 "nbformat": 4,
 "nbformat_minor": 4
}
