{
 "cells": [
  {
   "cell_type": "markdown",
   "metadata": {},
   "source": [
    "# Lesson 1 - Creating a 1 bit Full Adder"
   ]
  },
  {
   "cell_type": "markdown",
   "metadata": {},
   "source": [
    "A 1 bit full adder is a circuit that adds two bits (a) and (b) and an additional carry input (ci). The result is an output (r) and a carry bit (co).\n",
    "\n",
    "1 bit full adders can be chained to create adders of arbitrary number of bits.\n",
    "\n",
    "The logic circuit can be described by its truth table\n",
    "\n",
    "| a | b | ci | r  | co  |\n",
    "|--- |--- |--- |--- |---|\n",
    "| 0  | 0  | 0  |  0 | 0  |\n",
    "| 0  | 0  | 1  |  1 | 0  |\n",
    "| 0  | 1  | 0  |  1 | 0  |\n",
    "| 0  | 1  | 1  |  0 | 1  |\n",
    "| 1  | 0  | 0  |  1 | 0  |\n",
    "| 1  | 0  | 1  |  0 | 1  |\n",
    "| 1  | 1  | 0  |  0 | 1  |\n",
    "| 1  | 1  | 1  |  1 | 1  |\n",
    "\n",
    "The following diagram (from [https://www.fpga4student.com/2018/07/verilog-code-for-ripple-carry-adder.html]) depicts a possible implementation of the previous truth table.\n",
    "\n",
    "![Full adder diagram](full_adder_diagram.jpg \"Full adder diagram\").\n",
    "\n",
    "In the same webpage you can find an implementation in Verilog.\n",
    "\n",
    "    // fpga4student.com: FPGA projects, Verilog projects, VHDL projects\n",
    "    // Verilog project: Verilog code for 4-bit ripple-carry adder\n",
    "    // Verilog code for 1-bit full adder\n",
    "    module fulladder(X, Y, Ci, S, Co);\n",
    "      input X, Y, Ci;\n",
    "      output S, Co;\n",
    "      wire w1,w2,w3;\n",
    "      //Structural code for one bit full adder\n",
    "      xor G1(w1, X, Y);\n",
    "      xor G2(S, w1, Ci);\n",
    "      and G3(w2, w1, Ci);\n",
    "      and G4(w3, X, Y);\n",
    "      or G5(Co, w2, w3);\n",
    "    endmodule\n",
    "    \n",
    "Most FPGA design tools will require you to compile the design to a certain degree (requiring some minutes) to show a diagram that resembles something similar to the previous image.   "
   ]
  },
  {
   "cell_type": "markdown",
   "metadata": {},
   "source": [
    "### Now, we do the same structural design in py4hw"
   ]
  },
  {
   "cell_type": "code",
   "execution_count": 8,
   "metadata": {},
   "outputs": [
    {
     "name": "stdout",
     "output_type": "stream",
     "text": [
      "Dev machine\n"
     ]
    }
   ],
   "source": [
    "import sys\n",
    "import platform\n",
    "if (platform.uname().node == 'TPY14'):\n",
    "    print('Dev machine')\n",
    "    sys.path.append('..\\\\..\\\\..\\\\py4hw')"
   ]
  },
  {
   "cell_type": "code",
   "execution_count": 9,
   "metadata": {},
   "outputs": [],
   "source": [
    "import py4hw"
   ]
  },
  {
   "cell_type": "code",
   "execution_count": 10,
   "metadata": {},
   "outputs": [],
   "source": [
    "class FullAdder(py4hw.Logic):\n",
    "    \n",
    "    def __init__(self, parent, name, x, y, ci, s, co):\n",
    "        super().__init__(parent, name)\n",
    "        \n",
    "        x = self.addIn('x', x)\n",
    "        y = self.addIn('y', y)\n",
    "        ci = self.addIn('ci', ci)\n",
    "        s = self.addOut('s', s)\n",
    "        co = self.addOut('co', co)\n",
    "\n",
    "        w1 = self.wire('w1',1)\n",
    "        w2 = self.wire('w2',1)\n",
    "        w3 = self.wire('w3',1)\n",
    "        \n",
    "        py4hw.Xor2(self, 'g1', x, y, w1)\n",
    "        py4hw.Xor2(self, 'g2', w1, ci, s)\n",
    "        py4hw.And2(self, 'g3', w1, ci, w2)\n",
    "        py4hw.And2(self, 'g4', x, y, w3)\n",
    "        py4hw.Or2(self, 'g5', w2, w3, co)\n",
    "        "
   ]
  },
  {
   "cell_type": "markdown",
   "metadata": {},
   "source": [
    "Note some differences\n",
    "\n",
    "1- We define a class (instead of a module) which inherits from py4hw.Logic. All circuits must inherit from Logic in py4hw.\n",
    "\n",
    "2- The constructor of the class provides a parent and a name. All circuits must provide a parent and a name that must be passed to the constructor of the base class. The parent object is used to maintain the hierarchy. So all circuits have a link to their parent (self.parent) and all circuits have a dictionary with their children (self.children) which is keyed by the provided name. Children names must be unique in the parent scope.\n",
    "\n",
    "3- Constructor parameters do no define (at all) the circuit interface. The circuit interface is defined during runtime by calling addIn and addOut methods.\n",
    "\n",
    "4- The width of the ports are not specified. In py4hw port widths are never specified. On contrast, wire widths are always specified. Port widths are determined automatically during runtime depending on the wires connected to the ports.\n",
    "\n",
    "5- And2, Xor2, Or2 are primitive circuits provided by the framework."
   ]
  },
  {
   "cell_type": "markdown",
   "metadata": {},
   "source": [
    "### Testing the circuit\n",
    "\n",
    "You can test the circuit by instantiating it.\n",
    "\n",
    "We will use the object HWSystem, which is the top level entity on all py4hw designs."
   ]
  },
  {
   "cell_type": "code",
   "execution_count": 11,
   "metadata": {},
   "outputs": [],
   "source": [
    "sys = py4hw.HWSystem()\n",
    "\n",
    "x = sys.wire('x')\n",
    "y = sys.wire('y')\n",
    "ci = sys.wire('ci')\n",
    "s = sys.wire('s')\n",
    "co = sys.wire('co')\n",
    "fa = FullAdder(sys, 'fa', x, y, ci, s, co)"
   ]
  },
  {
   "cell_type": "code",
   "execution_count": 12,
   "metadata": {},
   "outputs": [
    {
     "data": {
      "image/png": "[encoded data removed]",
      "text/plain": [
       "<Figure size 510x356 with 1 Axes>"
      ]
     },
     "metadata": {
      "needs_background": "light"
     },
     "output_type": "display_data"
    }
   ],
   "source": [
    "sch = py4hw.Schematic(fa)\n",
    "sch.draw()\n"
   ]
  },
  {
   "cell_type": "markdown",
   "metadata": {},
   "source": [
    "### What about Simulating it ?\n",
    "In Verilog you would need to use a Gate Level Simulator. Standard practice is to use a commercial tool like QuestaSim, or opensource alternatives such as Icarus or Verilator. In any case, people usually have to change either tools or language to create the testbenches.\n",
    "\n",
    "This is how it is done in py4hw..."
   ]
  },
  {
   "cell_type": "code",
   "execution_count": 13,
   "metadata": {},
   "outputs": [
    {
     "ename": "TypeError",
     "evalue": "draw_wavedrom() got an unexpected keyword argument 'ShortName'",
     "output_type": "error",
     "traceback": [
      "\u001b[1;31m---------------------------------------------------------------------------\u001b[0m",
      "\u001b[1;31mTypeError\u001b[0m                                 Traceback (most recent call last)",
      "\u001b[1;32m~\\AppData\\Local\\Temp\\ipykernel_4432\\689176447.py\u001b[0m in \u001b[0;36m<module>\u001b[1;34m\u001b[0m\n\u001b[0;32m     21\u001b[0m \u001b[1;33m\u001b[0m\u001b[0m\n\u001b[0;32m     22\u001b[0m \u001b[1;31m# Draw with nbwavedrom\u001b[0m\u001b[1;33m\u001b[0m\u001b[1;33m\u001b[0m\u001b[1;33m\u001b[0m\u001b[0m\n\u001b[1;32m---> 23\u001b[1;33m \u001b[0mwf\u001b[0m\u001b[1;33m.\u001b[0m\u001b[0mdraw_wavedrom\u001b[0m\u001b[1;33m(\u001b[0m\u001b[0mShortName\u001b[0m\u001b[1;33m=\u001b[0m\u001b[1;32mTrue\u001b[0m\u001b[1;33m)\u001b[0m\u001b[1;33m\u001b[0m\u001b[1;33m\u001b[0m\u001b[0m\n\u001b[0m",
      "\u001b[1;31mTypeError\u001b[0m: draw_wavedrom() got an unexpected keyword argument 'ShortName'"
     ]
    }
   ],
   "source": [
    "sys = py4hw.HWSystem()\n",
    "\n",
    "x = sys.wire('x')\n",
    "y = sys.wire('y')\n",
    "ci = sys.wire('ci')\n",
    "s = sys.wire('s')\n",
    "co = sys.wire('co')\n",
    "\n",
    "py4hw.Sequence(sys, 'ci', [0,1], ci)\n",
    "py4hw.Sequence(sys, 'y', [0,0,1,1], y)\n",
    "py4hw.Sequence(sys, 'x', [0,0,0,0,1,1,1,1], x)\n",
    "\n",
    "fa = FullAdder(sys, 'fa', x, y, ci, s, co)\n",
    "\n",
    "wf = py4hw.Waveform(sys, 'wf', [x, y, ci, s, co])\n",
    "sys.getSimulator().clk(20)\n",
    "## Draw with matplotlib\n",
    "#wf.draw()\n",
    "#import matplotlib.pyplot as plt\n",
    "#plt.show()\n",
    "\n",
    "# Draw with nbwavedrom \n",
    "wf.draw_wavedrom(ShortName=True)\n"
   ]
  },
  {
   "cell_type": "markdown",
   "metadata": {},
   "source": [
    "### How to synthesize this?\n",
    "Right, this is good, but ... you probably want to sinthesize this design. Ok, here we go"
   ]
  },
  {
   "cell_type": "code",
   "execution_count": 9,
   "metadata": {},
   "outputs": [
    {
     "name": "stdout",
     "output_type": "stream",
     "text": [
      "// This file was automatically created by py4hw RTL generator\n",
      "module FullAdder (\n",
      "\tinput  x,\n",
      "\tinput  y,\n",
      "\tinput  ci,\n",
      "\toutput  s,\n",
      "\toutput  co);\n",
      "wire w_w1;\n",
      "wire w_w2;\n",
      "wire w_w3;\n",
      "\n",
      "assign w_w1 = x ^ y;\n",
      "assign s = w_w1 ^ ci;\n",
      "assign w_w2 = w_w1 & ci;\n",
      "assign w_w3 = x & y;\n",
      "assign co = w_w2 | w_w3;\n",
      "endmodule\n",
      "\n"
     ]
    }
   ],
   "source": [
    "rtlgen = py4hw.VerilogGenerator(fa)\n",
    "\n",
    "print(rtlgen.getVerilog(noInstanceNumber=True))"
   ]
  },
  {
   "cell_type": "markdown",
   "metadata": {},
   "source": [
    "Some comments:\n",
    "\n",
    "1- As you can see, some primitives (and2, xor2, or2) are direcly inlined as behavioural verilog assign statements. More complex circuits would appear as verilog structural circuit instantiation.\n",
    "\n",
    "2- Current Verilog generation uses a technique in independent RTL is generated for every circuit instance of the circuit. This requires to identify each instance (with a number). But tipically we do not want that number to appear in the top level entity of our circuit, so we pass the parameter noInstanceNumber=True to avoid it.\n",
    "More advanced RTL generation techniques will be implemented in future py4hw releases. For more details, see the discussion in [Section 7.1](s07/Structures.ipynb) of the User Guide."
   ]
  },
  {
   "cell_type": "code",
   "execution_count": null,
   "metadata": {},
   "outputs": [],
   "source": []
  }
 ],
 "metadata": {
  "kernelspec": {
   "display_name": "Python 3 (ipykernel)",
   "language": "python",
   "name": "python3"
  },
  "language_info": {
   "codemirror_mode": {
    "name": "ipython",
    "version": 3
   },
   "file_extension": ".py",
   "mimetype": "text/x-python",
   "name": "python",
   "nbconvert_exporter": "python",
   "pygments_lexer": "ipython3",
   "version": "3.7.6"
  }
 },
 "nbformat": 4,
 "nbformat_minor": 4
}
